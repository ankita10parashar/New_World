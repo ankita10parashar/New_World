{
  "nbformat": 4,
  "nbformat_minor": 0,
  "metadata": {
    "colab": {
      "name": "Untitled6.ipynb",
      "version": "0.3.2",
      "provenance": [],
      "collapsed_sections": [],
      "include_colab_link": true
    },
    "kernelspec": {
      "name": "python3",
      "display_name": "Python 3"
    }
  },
  "cells": [
    {
      "cell_type": "markdown",
      "metadata": {
        "id": "view-in-github",
        "colab_type": "text"
      },
      "source": [
        "<a href=\"https://colab.research.google.com/github/ankita10parashar/New_World/blob/master/ExtractTelegrammsgs.ipynb\" target=\"_parent\"><img src=\"https://colab.research.google.com/assets/colab-badge.svg\" alt=\"Open In Colab\"/></a>"
      ]
    },
    {
      "metadata": {
        "id": "Qbm2GFzdvnD0",
        "colab_type": "code",
        "outputId": "9ed56432-6153-4faf-b76b-3df0010af27e",
        "colab": {
          "base_uri": "https://localhost:8080/",
          "height": 297
        }
      },
      "cell_type": "code",
      "source": [
        "!pip install telethon"
      ],
      "execution_count": 2,
      "outputs": [
        {
          "output_type": "stream",
          "text": [
            "Collecting telethon\n",
            "\u001b[?25l  Downloading https://files.pythonhosted.org/packages/b6/7e/e150509d847262495e3ecb9073e7e1ea6cf22d02ac912820c3e16f7fbe00/Telethon-1.6.2.tar.gz (809kB)\n",
            "\u001b[K    100% |████████████████████████████████| 819kB 23.5MB/s \n",
            "\u001b[?25hCollecting pyaes (from telethon)\n",
            "  Downloading https://files.pythonhosted.org/packages/44/66/2c17bae31c906613795711fc78045c285048168919ace2220daa372c7d72/pyaes-1.6.1.tar.gz\n",
            "Requirement already satisfied: rsa in /usr/local/lib/python3.6/dist-packages (from telethon) (4.0)\n",
            "Requirement already satisfied: pyasn1>=0.1.3 in /usr/local/lib/python3.6/dist-packages (from rsa->telethon) (0.4.5)\n",
            "Building wheels for collected packages: telethon, pyaes\n",
            "  Building wheel for telethon (setup.py) ... \u001b[?25ldone\n",
            "\u001b[?25h  Stored in directory: /root/.cache/pip/wheels/71/3e/8c/e75e89515b5417a0c3920813e9be93a65580b0430186f9a8ed\n",
            "  Building wheel for pyaes (setup.py) ... \u001b[?25ldone\n",
            "\u001b[?25h  Stored in directory: /root/.cache/pip/wheels/bd/cf/7b/ced9e8f28c50ed666728e8ab178ffedeb9d06f6a10f85d6432\n",
            "Successfully built telethon pyaes\n",
            "Installing collected packages: pyaes, telethon\n",
            "Successfully installed pyaes-1.6.1 telethon-1.6.2\n"
          ],
          "name": "stdout"
        }
      ]
    },
    {
      "metadata": {
        "id": "EFSKQzuoqUFs",
        "colab_type": "code",
        "colab": {}
      },
      "cell_type": "code",
      "source": [
        "from telethon import TelegramClient, sync\n",
        "\n",
        "# Use your own values here\n",
        "api_id = 777214\n",
        "api_hash = '4ca2f1ad1c2abd8178eff3349982d1f7'\n",
        "\n",
        "client = TelegramClient('session1', api_id, api_hash)\n",
        "client.connect()"
      ],
      "execution_count": 0,
      "outputs": []
    },
    {
      "metadata": {
        "id": "eaeOOCFbqbQR",
        "colab_type": "code",
        "outputId": "96f88045-2393-4e4d-c9ef-080168e5895c",
        "colab": {
          "base_uri": "https://localhost:8080/",
          "height": 87
        }
      },
      "cell_type": "code",
      "source": [
        "client.start()\n"
      ],
      "execution_count": 4,
      "outputs": [
        {
          "output_type": "stream",
          "text": [
            "Please enter your phone (or bot token): +919813501630\n",
            "Please enter the code you received: 78768\n",
            "Signed in successfully as Naresh Sharma\n"
          ],
          "name": "stdout"
        },
        {
          "output_type": "execute_result",
          "data": {
            "text/plain": [
              "<telethon.client.telegramclient.TelegramClient at 0x7fb8debe2da0>"
            ]
          },
          "metadata": {
            "tags": []
          },
          "execution_count": 4
        }
      ]
    },
    {
      "metadata": {
        "id": "QFA6Yla74-EL",
        "colab_type": "code",
        "colab": {}
      },
      "cell_type": "code",
      "source": [
        "import pandas"
      ],
      "execution_count": 0,
      "outputs": []
    },
    {
      "metadata": {
        "id": "Vsnz6HKe9Kp4",
        "colab_type": "code",
        "outputId": "ac386065-150c-499d-e489-3965cec70fa8",
        "colab": {
          "base_uri": "https://localhost:8080/",
          "height": 55
        }
      },
      "cell_type": "code",
      "source": [
        "'''channel_username ='tokenmarket'\n",
        "messages =[]\n",
        "time = []\n",
        "participants = client.get_participants(channel_username)\n",
        "chats =client.get_messages(channel_username, 1000)\n",
        "  \n",
        "  \n",
        "for message in client.iter_messages(channel_username, search='bitcoin'):\n",
        "     messages.append(message.message) # get messages \n",
        "     time.append(message.date) # get timestamp\n",
        "      \n",
        "      \n",
        "data ={'time':time, 'message':messages}\n",
        "df = pandas.DataFrame(data) \n",
        "print(len(df))'''\n",
        "\n"
      ],
      "execution_count": 0,
      "outputs": [
        {
          "output_type": "execute_result",
          "data": {
            "text/plain": [
              "\"channel_username ='tokenmarket'\\nmessages =[]\\ntime = []\\nparticipants = client.get_participants(channel_username)\\nchats =client.get_messages(channel_username, 1000)\\n  \\n  \\nfor message in client.iter_messages(channel_username, search='bitcoin'):\\n     messages.append(message.message) # get messages \\n     time.append(message.date) # get timestamp\\n      \\n      \\ndata ={'time':time, 'message':messages}\\ndf = pandas.DataFrame(data) \\nprint(len(df))\""
            ]
          },
          "metadata": {
            "tags": []
          },
          "execution_count": 95
        }
      ]
    },
    {
      "metadata": {
        "id": "3dfcMTCZIp5-",
        "colab_type": "code",
        "colab": {}
      },
      "cell_type": "code",
      "source": [
        "\n"
      ],
      "execution_count": 0,
      "outputs": []
    },
    {
      "metadata": {
        "id": "nBKDhZO3qem6",
        "colab_type": "code",
        "outputId": "fc7bbd66-cfbb-4321-edcf-dd1851d2fa6a",
        "colab": {
          "base_uri": "https://localhost:8080/",
          "height": 52
        }
      },
      "cell_type": "code",
      "source": [
        "%time\n",
        "channel_username =['BitcoinAirXBA', 'BitcoinCore ','bitcoinitalia ','BitcoinChat','BitcoinGPU ', 'pemburu_bitcoin'\n",
        "                   , 'ComTrust','essentia_one','thecoinfarm','thriveico','aworkerio','binanceexchange','coinfarm','blockchains',\n",
        "                   'BTCFork','blockmason','bitcoinitalia','BFU_Cryptochat','Altcoins','ICOInsiderCommunity','icocountdown','tokenmarket','AlunaCrypto',\n",
        "                   'Argenpool','btccom','Cryptogene','thecoinfarm','tokenmarket','bytecoinchat','chronobank','civicplatform','cobinhood',\n",
        "                   'ColuLocalNetworkChat','Counterparty','creativechain','dentcoin','dfinity','decentch','Decred','DigixDAO','district0x','DigiByteCoin',\n",
        "                  'mysterium_network','Neo_Blockchain','OmniLayer','pascalcoin','Peerplays','PikcioChain','NxtCommunity','icospeaks','Kucoin_Exchange',\n",
        "                  'sirinlabs','Bitex_Global_Ico_Official']\n",
        "\n",
        "\n",
        "messages =[]\n",
        "time = []\n",
        "for i in channel_username: \n",
        "  for message in client.iter_messages(i, search='bitcoin'):\n",
        "      messages.append(message.message) # get messages \n",
        "      time.append(message.date) # get timestamp\n",
        "      \n",
        "      \n",
        "#data ={'time':time, 'message':messages}\n",
        "\n",
        "date_data={'time':time}\n",
        "\n"
      ],
      "execution_count": 0,
      "outputs": [
        {
          "output_type": "stream",
          "text": [
            "CPU times: user 3 µs, sys: 0 ns, total: 3 µs\n",
            "Wall time: 7.15 µs\n"
          ],
          "name": "stdout"
        }
      ]
    },
    {
      "metadata": {
        "id": "jm-_UXrN6Zro",
        "colab_type": "code",
        "colab": {}
      },
      "cell_type": "code",
      "source": [
        "df3 = pandas.DataFrame(data) \n"
      ],
      "execution_count": 0,
      "outputs": []
    },
    {
      "metadata": {
        "id": "Jw3vrWuy6fay",
        "colab_type": "code",
        "outputId": "b8c92f53-823d-4339-db8f-afb5723e81e7",
        "colab": {
          "base_uri": "https://localhost:8080/",
          "height": 1092
        }
      },
      "cell_type": "code",
      "source": [
        "df3.head()\n",
        "y=df3['time']\n",
        "print(y)"
      ],
      "execution_count": 17,
      "outputs": [
        {
          "output_type": "stream",
          "text": [
            "0         2019\n",
            "1         2019\n",
            "2         2019\n",
            "3         2019\n",
            "4         2019\n",
            "5         2019\n",
            "6         2019\n",
            "7         2019\n",
            "8         2019\n",
            "9         2019\n",
            "10        2019\n",
            "11        2019\n",
            "12        2019\n",
            "13        2019\n",
            "14        2019\n",
            "15        2019\n",
            "16        2019\n",
            "17        2019\n",
            "18        2019\n",
            "19        2019\n",
            "20        2019\n",
            "21        2019\n",
            "22        2019\n",
            "23        2019\n",
            "24        2019\n",
            "25        2019\n",
            "26        2019\n",
            "27        2019\n",
            "28        2019\n",
            "29        2019\n",
            "          ... \n",
            "105073    2018\n",
            "105074    2018\n",
            "105075    2018\n",
            "105076    2018\n",
            "105077    2018\n",
            "105078    2018\n",
            "105079    2018\n",
            "105080    2018\n",
            "105081    2018\n",
            "105082    2018\n",
            "105083    2018\n",
            "105084    2018\n",
            "105085    2018\n",
            "105086    2018\n",
            "105087    2018\n",
            "105088    2018\n",
            "105089    2018\n",
            "105090    2018\n",
            "105091    2018\n",
            "105092    2018\n",
            "105093    2018\n",
            "105094    2018\n",
            "105095    2018\n",
            "105096    2018\n",
            "105097    2018\n",
            "105098    2018\n",
            "105099    2018\n",
            "105100    2018\n",
            "105101    2018\n",
            "105102    2018\n",
            "Name: time, Length: 105103, dtype: int64\n"
          ],
          "name": "stdout"
        }
      ]
    },
    {
      "metadata": {
        "id": "-d-9nPHzwIDc",
        "colab_type": "code",
        "colab": {}
      },
      "cell_type": "code",
      "source": [
        "x = 'Bitex_Global_Ico_Official'\n",
        "\n",
        "messages1 =[]\n",
        "time_new= [] \n",
        "for message in client.iter_messages(x, search='bitcoin'):\n",
        "    messages1.append(message.message) # get messages \n",
        "    time_new.append(message.date.year) # get timestamp\n",
        "      \n",
        "      \n",
        "data1 ={'time':time_new, 'message':messages1}\n"
      ],
      "execution_count": 0,
      "outputs": []
    },
    {
      "metadata": {
        "id": "Qp3HSFPZwiPc",
        "colab_type": "code",
        "colab": {
          "base_uri": "https://localhost:8080/",
          "height": 35
        },
        "outputId": "ce1480ff-4a55-4c8e-872c-4e2ae7ea107c"
      },
      "cell_type": "code",
      "source": [
        "min(time_new)\n"
      ],
      "execution_count": 37,
      "outputs": [
        {
          "output_type": "execute_result",
          "data": {
            "text/plain": [
              "2018"
            ]
          },
          "metadata": {
            "tags": []
          },
          "execution_count": 37
        }
      ]
    },
    {
      "metadata": {
        "id": "vhiSvTgLBQXt",
        "colab_type": "code",
        "colab": {}
      },
      "cell_type": "code",
      "source": [
        "dff=pandas.DataFrame(data1)"
      ],
      "execution_count": 0,
      "outputs": []
    },
    {
      "metadata": {
        "id": "kqrohM0CXQlJ",
        "colab_type": "code",
        "outputId": "891998ce-0abd-4234-9457-714e58a463f2",
        "colab": {
          "base_uri": "https://localhost:8080/",
          "height": 662
        }
      },
      "cell_type": "code",
      "source": [
        "dff[0:20]\n"
      ],
      "execution_count": 16,
      "outputs": [
        {
          "output_type": "execute_result",
          "data": {
            "text/html": [
              "<div>\n",
              "<style scoped>\n",
              "    .dataframe tbody tr th:only-of-type {\n",
              "        vertical-align: middle;\n",
              "    }\n",
              "\n",
              "    .dataframe tbody tr th {\n",
              "        vertical-align: top;\n",
              "    }\n",
              "\n",
              "    .dataframe thead th {\n",
              "        text-align: right;\n",
              "    }\n",
              "</style>\n",
              "<table border=\"1\" class=\"dataframe\">\n",
              "  <thead>\n",
              "    <tr style=\"text-align: right;\">\n",
              "      <th></th>\n",
              "      <th>message</th>\n",
              "      <th>time</th>\n",
              "    </tr>\n",
              "  </thead>\n",
              "  <tbody>\n",
              "    <tr>\n",
              "      <th>0</th>\n",
              "      <td>here you got BITEX's OFFICIAL SOCIAL CHANNELS\\...</td>\n",
              "      <td>2019-03-25 15:53:04+00:00</td>\n",
              "    </tr>\n",
              "    <tr>\n",
              "      <th>1</th>\n",
              "      <td>Will share my short story with my Mom,\\nDuring...</td>\n",
              "      <td>2019-03-25 14:41:58+00:00</td>\n",
              "    </tr>\n",
              "    <tr>\n",
              "      <th>2</th>\n",
              "      <td>My mother thinks all crypto currency is bitcoin</td>\n",
              "      <td>2019-03-25 14:04:14+00:00</td>\n",
              "    </tr>\n",
              "    <tr>\n",
              "      <th>3</th>\n",
              "      <td>But when Bitcoin is processed and the whole am...</td>\n",
              "      <td>2019-03-25 13:53:51+00:00</td>\n",
              "    </tr>\n",
              "    <tr>\n",
              "      <th>4</th>\n",
              "      <td>Bitcoin did a great job. It brought recognitio...</td>\n",
              "      <td>2019-03-25 13:51:49+00:00</td>\n",
              "    </tr>\n",
              "    <tr>\n",
              "      <th>5</th>\n",
              "      <td>None of Us think XBX is the new Bitcoin I’m so...</td>\n",
              "      <td>2019-03-25 13:48:18+00:00</td>\n",
              "    </tr>\n",
              "    <tr>\n",
              "      <th>6</th>\n",
              "      <td>I’m sorry to say this but neither Bitcoin Nor ...</td>\n",
              "      <td>2019-03-25 13:45:55+00:00</td>\n",
              "    </tr>\n",
              "    <tr>\n",
              "      <th>7</th>\n",
              "      <td>In every Telegram group people are shilling th...</td>\n",
              "      <td>2019-03-25 13:45:04+00:00</td>\n",
              "    </tr>\n",
              "    <tr>\n",
              "      <th>8</th>\n",
              "      <td>I do recall everyone said no one will use Bitc...</td>\n",
              "      <td>2019-03-25 13:42:27+00:00</td>\n",
              "    </tr>\n",
              "    <tr>\n",
              "      <th>9</th>\n",
              "      <td>Its not for real. People say that for almost e...</td>\n",
              "      <td>2019-03-25 13:38:57+00:00</td>\n",
              "    </tr>\n",
              "    <tr>\n",
              "      <th>10</th>\n",
              "      <td>That's true... anyway do you think it will aff...</td>\n",
              "      <td>2019-03-25 13:36:26+00:00</td>\n",
              "    </tr>\n",
              "    <tr>\n",
              "      <th>11</th>\n",
              "      <td>is this for real?i don't have any idea about t...</td>\n",
              "      <td>2019-03-25 13:33:52+00:00</td>\n",
              "    </tr>\n",
              "    <tr>\n",
              "      <th>12</th>\n",
              "      <td>Bitcoin is just a first mover..  but Myspace,N...</td>\n",
              "      <td>2019-03-25 13:31:41+00:00</td>\n",
              "    </tr>\n",
              "    <tr>\n",
              "      <th>13</th>\n",
              "      <td>yah ... do you have any idea why Bitcoin is mo...</td>\n",
              "      <td>2019-03-25 13:24:45+00:00</td>\n",
              "    </tr>\n",
              "    <tr>\n",
              "      <th>14</th>\n",
              "      <td>do you know  XNews? Xnews is  a Pre-IEO platfo...</td>\n",
              "      <td>2019-03-25 13:21:11+00:00</td>\n",
              "    </tr>\n",
              "    <tr>\n",
              "      <th>15</th>\n",
              "      <td>All altcoins are bitcoin dependent, once bitco...</td>\n",
              "      <td>2019-03-25 13:19:06+00:00</td>\n",
              "    </tr>\n",
              "    <tr>\n",
              "      <th>16</th>\n",
              "      <td>oh i see but do you think there's a chance if ...</td>\n",
              "      <td>2019-03-25 13:16:50+00:00</td>\n",
              "    </tr>\n",
              "    <tr>\n",
              "      <th>17</th>\n",
              "      <td>but you know what? i notice any investor are s...</td>\n",
              "      <td>2019-03-25 13:04:37+00:00</td>\n",
              "    </tr>\n",
              "    <tr>\n",
              "      <th>18</th>\n",
              "      <td>The Bitcoin Fork aims to manipulate</td>\n",
              "      <td>2019-03-25 12:13:26+00:00</td>\n",
              "    </tr>\n",
              "    <tr>\n",
              "      <th>19</th>\n",
              "      <td>The biggest monopoly in crypto space is on BCH...</td>\n",
              "      <td>2019-03-25 12:12:11+00:00</td>\n",
              "    </tr>\n",
              "  </tbody>\n",
              "</table>\n",
              "</div>"
            ],
            "text/plain": [
              "                                              message  \\\n",
              "0   here you got BITEX's OFFICIAL SOCIAL CHANNELS\\...   \n",
              "1   Will share my short story with my Mom,\\nDuring...   \n",
              "2     My mother thinks all crypto currency is bitcoin   \n",
              "3   But when Bitcoin is processed and the whole am...   \n",
              "4   Bitcoin did a great job. It brought recognitio...   \n",
              "5   None of Us think XBX is the new Bitcoin I’m so...   \n",
              "6   I’m sorry to say this but neither Bitcoin Nor ...   \n",
              "7   In every Telegram group people are shilling th...   \n",
              "8   I do recall everyone said no one will use Bitc...   \n",
              "9   Its not for real. People say that for almost e...   \n",
              "10  That's true... anyway do you think it will aff...   \n",
              "11  is this for real?i don't have any idea about t...   \n",
              "12  Bitcoin is just a first mover..  but Myspace,N...   \n",
              "13  yah ... do you have any idea why Bitcoin is mo...   \n",
              "14  do you know  XNews? Xnews is  a Pre-IEO platfo...   \n",
              "15  All altcoins are bitcoin dependent, once bitco...   \n",
              "16  oh i see but do you think there's a chance if ...   \n",
              "17  but you know what? i notice any investor are s...   \n",
              "18                The Bitcoin Fork aims to manipulate   \n",
              "19  The biggest monopoly in crypto space is on BCH...   \n",
              "\n",
              "                        time  \n",
              "0  2019-03-25 15:53:04+00:00  \n",
              "1  2019-03-25 14:41:58+00:00  \n",
              "2  2019-03-25 14:04:14+00:00  \n",
              "3  2019-03-25 13:53:51+00:00  \n",
              "4  2019-03-25 13:51:49+00:00  \n",
              "5  2019-03-25 13:48:18+00:00  \n",
              "6  2019-03-25 13:45:55+00:00  \n",
              "7  2019-03-25 13:45:04+00:00  \n",
              "8  2019-03-25 13:42:27+00:00  \n",
              "9  2019-03-25 13:38:57+00:00  \n",
              "10 2019-03-25 13:36:26+00:00  \n",
              "11 2019-03-25 13:33:52+00:00  \n",
              "12 2019-03-25 13:31:41+00:00  \n",
              "13 2019-03-25 13:24:45+00:00  \n",
              "14 2019-03-25 13:21:11+00:00  \n",
              "15 2019-03-25 13:19:06+00:00  \n",
              "16 2019-03-25 13:16:50+00:00  \n",
              "17 2019-03-25 13:04:37+00:00  \n",
              "18 2019-03-25 12:13:26+00:00  \n",
              "19 2019-03-25 12:12:11+00:00  "
            ]
          },
          "metadata": {
            "tags": []
          },
          "execution_count": 16
        }
      ]
    },
    {
      "metadata": {
        "id": "wyhsjxGXXSSb",
        "colab_type": "code",
        "colab": {}
      },
      "cell_type": "code",
      "source": [
        ""
      ],
      "execution_count": 0,
      "outputs": []
    }
  ]
}